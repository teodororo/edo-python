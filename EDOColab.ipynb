{
  "nbformat": 4,
  "nbformat_minor": 0,
  "metadata": {
    "colab": {
      "name": "EDOColab.ipynb",
      "provenance": [],
      "collapsed_sections": [],
      "include_colab_link": true
    },
    "kernelspec": {
      "name": "python3",
      "display_name": "Python 3"
    }
  },
  "cells": [
    {
      "cell_type": "markdown",
      "metadata": {
        "id": "view-in-github",
        "colab_type": "text"
      },
      "source": [
        "<a href=\"https://colab.research.google.com/github/teodororo/edo-python/blob/master/EDOColab.ipynb\" target=\"_parent\"><img src=\"https://colab.research.google.com/assets/colab-badge.svg\" alt=\"Open In Colab\"/></a>"
      ]
    },
    {
      "cell_type": "markdown",
      "metadata": {
        "id": "F0_lGiYDNNvD",
        "colab_type": "text"
      },
      "source": [
        "**Bibliotecas necessárias**"
      ]
    },
    {
      "cell_type": "code",
      "metadata": {
        "id": "06bJXTpnNqlH",
        "colab_type": "code",
        "colab": {}
      },
      "source": [
        "from sympy import *\n",
        "init_printing()"
      ],
      "execution_count": null,
      "outputs": []
    },
    {
      "cell_type": "markdown",
      "metadata": {
        "id": "UY2Eh2u9nwsV",
        "colab_type": "text"
      },
      "source": [
        "**Decaimento radioativo**"
      ]
    },
    {
      "cell_type": "code",
      "metadata": {
        "id": "hWjRm2JhnwP-",
        "colab_type": "code",
        "colab": {
          "base_uri": "https://localhost:8080/",
          "height": 38
        },
        "outputId": "29490f10-457c-4bec-ffdc-c0f38dab1ba1"
      },
      "source": [
        "# Tempo e constante de radioatividade\n",
        "t, k = symbols('t,k')\n",
        "# Decaimento radioativo \n",
        "Q = Function('Q')\n",
        "# Derivative(função, variável)\n",
        "# A radioatividade varia conforme o tempo \n",
        "D = Derivative(Q(t),t)\n",
        "# Dsolve(equação, variável)\n",
        "# A equação é a derivada mais o material vezes a constante\n",
        "dsolve(D+Q(t)*k, Q(t))"
      ],
      "execution_count": null,
      "outputs": [
        {
          "output_type": "execute_result",
          "data": {
            "image/png": "[encoded data removed]",
            "text/latex": "$$Q{\\left (t \\right )} = C_{1} e^{- k t}$$",
            "text/plain": [
              "           -k⋅t\n",
              "Q(t) = C₁⋅ℯ    "
            ]
          },
          "metadata": {
            "tags": []
          },
          "execution_count": 2
        }
      ]
    },
    {
      "cell_type": "markdown",
      "metadata": {
        "id": "gqMXFQknRfXJ",
        "colab_type": "text"
      },
      "source": [
        "**Capitalização a juros compostos sobre um investimento com depósito único**"
      ]
    },
    {
      "cell_type": "code",
      "metadata": {
        "id": "h_NWaeyLDtKU",
        "colab_type": "code",
        "cellView": "both",
        "colab": {
          "base_uri": "https://localhost:8080/",
          "height": 38
        },
        "outputId": "612e25fd-467a-4a1c-bd21-5ff190d7b543"
      },
      "source": [
        "# Tempo e taxa de juros \n",
        "t, r = symbols('t,r')\n",
        "# Investimento \n",
        "S = Function('S')\n",
        "# Derivative(função, variável)\n",
        "# O investimento varia conforme o tempo\n",
        "D = Derivative(S(t),t)\n",
        "# Dsolve(equação, variável)\n",
        "# A equação é a derivada menos a taxa vezes o tempo\n",
        "dsolve(D-r*S(t), S(t))"
      ],
      "execution_count": null,
      "outputs": [
        {
          "output_type": "execute_result",
          "data": {
            "image/png": "[encoded data removed]",
            "text/latex": "$$S{\\left (t \\right )} = C_{1} e^{r t}$$",
            "text/plain": [
              "           r⋅t\n",
              "S(t) = C₁⋅ℯ   "
            ]
          },
          "metadata": {
            "tags": []
          },
          "execution_count": 3
        }
      ]
    },
    {
      "cell_type": "markdown",
      "metadata": {
        "id": "dx_Di3dINh-f",
        "colab_type": "text"
      },
      "source": [
        "**Capitalização a juros compostos sobre um investimento com depósitos ou retiradas**"
      ]
    },
    {
      "cell_type": "code",
      "metadata": {
        "colab_type": "code",
        "cellView": "both",
        "id": "tcrjpbI5RsjO",
        "colab": {
          "base_uri": "https://localhost:8080/",
          "height": 38
        },
        "outputId": "67a69a0f-7632-4a60-927a-c2151157f2b6"
      },
      "source": [
        "# Tempo, taxa de juros e constante\n",
        "t, r, k = symbols('t,r,k')\n",
        "# Investimento \n",
        "S = Function('S')\n",
        "# Derivative(função, variável)\n",
        "# O investimento varia conforme o tempo\n",
        "D = Derivative(S(t),t)\n",
        "# Dsolve(equação, variável)\n",
        "# A equação é a derivada menos a taxa vezes o tempo e a constante\n",
        "dsolve(D-r*S(t)-k, S(t))"
      ],
      "execution_count": null,
      "outputs": [
        {
          "output_type": "execute_result",
          "data": {
            "image/png": "[encoded data removed]",
            "text/latex": "$$S{\\left (t \\right )} = \\frac{1}{r} \\left(- k + e^{r \\left(C_{1} + t\\right)}\\right)$$",
            "text/plain": [
              "             r⋅(C₁ + t)\n",
              "       -k + ℯ          \n",
              "S(t) = ────────────────\n",
              "              r        "
            ]
          },
          "metadata": {
            "tags": []
          },
          "execution_count": 4
        }
      ]
    }
  ]
}